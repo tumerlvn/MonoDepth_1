{
 "cells": [
  {
   "cell_type": "code",
   "execution_count": 1,
   "id": "8908b85a",
   "metadata": {},
   "outputs": [],
   "source": [
    "import os\n",
    "import sys\n",
    "import torch\n",
    "import pytorch3d"
   ]
  },
  {
   "cell_type": "code",
   "execution_count": 2,
   "id": "b9c79863",
   "metadata": {},
   "outputs": [],
   "source": [
    "# Data structures and functions for rendering\n",
    "from pytorch3d.structures import Meshes\n",
    "from pytorch3d.renderer import (\n",
    "    look_at_view_transform,\n",
    "    FoVPerspectiveCameras,\n",
    "    RasterizationSettings, \n",
    "    MeshRenderer, \n",
    "    MeshRasterizer\n",
    ")\n",
    "\n",
    "from pytorch3d.renderer.mesh.shader import (\n",
    "    ShaderBase,\n",
    ")"
   ]
  },
  {
   "cell_type": "code",
   "execution_count": 3,
   "id": "1c492744",
   "metadata": {},
   "outputs": [],
   "source": [
    "import h5py\n",
    "import matplotlib.pyplot as plt\n",
    "import numpy as np\n",
    "import pandas as pd\n",
    "import scipy.linalg"
   ]
  },
  {
   "cell_type": "code",
   "execution_count": 4,
   "id": "d7b2f150",
   "metadata": {},
   "outputs": [],
   "source": [
    "# taken from https://github.com/facebookresearch/pytorch3d/blob/main/pytorch3d/renderer/mesh/shader.py\n",
    "\n",
    "class HardDepthShader(ShaderBase):\n",
    "    \"\"\"\n",
    "    Renders the Z distances of the closest face for each pixel. If no face is\n",
    "    found it returns the zfar value of the camera.\n",
    "    Output from this shader is [N, H, W, 1] since it's only depth.\n",
    "    To use the default values, simply initialize the shader with the desired\n",
    "    device e.g.\n",
    "    .. code-block::\n",
    "        shader = HardDepthShader(device=torch.device(\"cuda:0\"))\n",
    "    \"\"\"\n",
    "\n",
    "    def forward(self, fragments, meshes, **kwargs) -> torch.Tensor:\n",
    "        cameras = self.cameras\n",
    "\n",
    "        zfar = kwargs.get(\"zfar\", getattr(cameras, \"zfar\", 100.0))\n",
    "        mask = fragments.pix_to_face[..., 0:1] < 0\n",
    "\n",
    "        zbuf = fragments.zbuf[..., 0:1].clone()\n",
    "        zbuf[mask] = zfar\n",
    "        return zbuf"
   ]
  },
  {
   "cell_type": "code",
   "execution_count": 5,
   "id": "c713826c",
   "metadata": {},
   "outputs": [],
   "source": [
    "device = torch.device(\"cpu\")"
   ]
  },
  {
   "cell_type": "code",
   "execution_count": 6,
   "id": "3c422b89",
   "metadata": {},
   "outputs": [],
   "source": [
    "metadata_camera_parameters_csv_file = os.path.join(\"..\", \"metadata_camera_parameters.csv\")\n",
    "\n",
    "scene_name  = \"ai_037_002\"\n",
    "camera_name = \"cam_00\"\n",
    "frame_id    = 0\n",
    "\n",
    "camera_dir = os.path.join(scene_name, \"_detail\", camera_name)\n",
    "img_dir    = os.path.join(scene_name, \"images\")\n",
    "\n",
    "# we need access to the Hypersim meshes in order to execute parts of this notebook\n",
    "mesh_dir = \"/Volumes/lacie/hypersim/evermotion_dataset/scenes/\" + scene_name + \"/_detail/mesh\""
   ]
  },
  {
   "cell_type": "code",
   "execution_count": 7,
   "id": "08283695",
   "metadata": {},
   "outputs": [],
   "source": [
    "mesh_vertices_hdf5_file = os.path.join(mesh_dir, \"mesh_vertices.hdf5\")\n",
    "mesh_faces_vi_hdf5_file = os.path.join(mesh_dir, \"mesh_faces_vi.hdf5\")\n",
    "\n",
    "with h5py.File(mesh_vertices_hdf5_file, \"r\") as f: mesh_vertices   = f[\"dataset\"][:]\n",
    "with h5py.File(mesh_faces_vi_hdf5_file, \"r\") as f: mesh_faces_vi   = f[\"dataset\"][:]\n",
    "\n",
    "mesh_positions_world = mesh_vertices\n",
    "\n",
    "camera_positions_hdf5_file    = os.path.join(camera_dir, \"camera_keyframe_positions.hdf5\")\n",
    "camera_orientations_hdf5_file = os.path.join(camera_dir, \"camera_keyframe_orientations.hdf5\")\n",
    "\n",
    "with h5py.File(camera_positions_hdf5_file,    \"r\") as f: camera_positions    = f[\"dataset\"][:]\n",
    "with h5py.File(camera_orientations_hdf5_file, \"r\") as f: camera_orientations = f[\"dataset\"][:]"
   ]
  },
  {
   "cell_type": "code",
   "execution_count": 9,
   "id": "05827285",
   "metadata": {
    "scrolled": false
   },
   "outputs": [
    {
     "data": {
      "image/png": "[encoded data removed]",
      "text/plain": [
       "<Figure size 720x720 with 2 Axes>"
      ]
     },
     "metadata": {
      "needs_background": "light"
     },
     "output_type": "display_data"
    }
   ],
   "source": [
    "camera_position_world = camera_positions[frame_id]\n",
    "R_world_from_cam      = camera_orientations[frame_id]\n",
    "\n",
    "t_world_from_cam = np.matrix(camera_position_world).T\n",
    "R_cam_from_world = np.matrix(R_world_from_cam).T\n",
    "t_cam_from_world = -R_cam_from_world*t_world_from_cam\n",
    "\n",
    "M_cam_from_world = np.matrix(np.block([[R_cam_from_world,       t_cam_from_world],\n",
    "                                       [np.matrix(np.zeros(3)), 1.0]]))\n",
    "\n",
    "#\n",
    "# load per-scene Hypersim camera intrinsics data\n",
    "#\n",
    "\n",
    "df_camera_parameters = pd.read_csv(metadata_camera_parameters_csv_file, index_col=\"scene_name\")\n",
    "df_ = df_camera_parameters.loc[scene_name]\n",
    "\n",
    "# divide image width and height by k to make rendering go faster\n",
    "k = 16\n",
    "width_pixels  = int(df_[\"settings_output_img_width\"] / k)\n",
    "height_pixels = int(df_[\"settings_output_img_height\"] / k)\n",
    "\n",
    "if df_[\"use_camera_physical\"]:\n",
    "    fov_x = df_[\"camera_physical_fov\"]\n",
    "else:\n",
    "    fov_x = df_[\"settings_camera_fov\"]\n",
    "\n",
    "fov_y = 2.0 * np.arctan(height_pixels * np.tan(fov_x/2.0) / width_pixels)\n",
    "\n",
    "M_cam_from_uv = np.matrix([[ df_[\"M_cam_from_uv_00\"], df_[\"M_cam_from_uv_01\"], df_[\"M_cam_from_uv_02\"] ],\n",
    "                           [ df_[\"M_cam_from_uv_10\"], df_[\"M_cam_from_uv_11\"], df_[\"M_cam_from_uv_12\"] ],\n",
    "                           [ df_[\"M_cam_from_uv_20\"], df_[\"M_cam_from_uv_21\"], df_[\"M_cam_from_uv_22\"] ]])\n",
    "\n",
    "M_cam_from_uv_canonical = np.matrix([[np.tan(fov_x/2.0), 0.0,               0.0],\n",
    "                                     [0.0,               np.tan(fov_y/2.0), 0.0],\n",
    "                                     [0.0,               0.0,               -1.0]])\n",
    "\n",
    "# PyTorch3D seems to have problems with the non-standard perspective projection matrices\n",
    "# found in Hypersim, so we construct a matrix to transform a camera-space point from its\n",
    "# original position to a warped position, such that the warped position can be projected\n",
    "# with a standard perspective projection matrix. This matrix completely accounts for the\n",
    "# non-standard Hypersim camera parameters.\n",
    "M_warp_cam_pts_ = M_cam_from_uv_canonical*M_cam_from_uv.I\n",
    "M_warp_cam_pts  = scipy.linalg.block_diag(M_warp_cam_pts_, 1)\n",
    "\n",
    "# construct a matrix to account for the different camera-space conventions in Hypersim and PyTorch3D\n",
    "#   Hypersim:  +x points to the right, +y points up, +z points away from the viewing direction\n",
    "#   PyTorch3D: +x points to the left,  +y points up, +z points towards the viewing direction\n",
    "M_p3dcam_from_cam = np.matrix(np.identity(4))\n",
    "M_p3dcam_from_cam[0,0] = -1\n",
    "M_p3dcam_from_cam[2,2] = -1\n",
    "\n",
    "#\n",
    "# We transform our vertices into camera-space manually, because this enables us to account\n",
    "# for Hypersim's non-standard camera parameters purely in camera-space. We can then use the\n",
    "# default perspective projection matrix available in PyTorch3D.\n",
    "#\n",
    "\n",
    "num_points = mesh_positions_world.shape[0]\n",
    "\n",
    "P_world  = np.matrix( np.c_[ mesh_positions_world, np.ones(num_points) ] ).T\n",
    "P_p3dcam = M_p3dcam_from_cam*M_warp_cam_pts*M_cam_from_world*P_world\n",
    "\n",
    "# construct PyTorch3D mesh\n",
    "verts = torch.tensor(P_p3dcam.T[:,0:3], device=device, dtype=torch.float32)\n",
    "faces = torch.tensor(mesh_faces_vi, device=device)\n",
    "mesh  = Meshes(verts=[verts], faces=[faces])\n",
    "\n",
    "# aspect_ratio refers to the pixel aspect ratio, so we set it to 1.0 even though our images are not square\n",
    "cameras = FoVPerspectiveCameras(device=device, fov=fov_y, degrees=False, aspect_ratio=1.0, znear=1.0, zfar=400.0)\n",
    "\n",
    "raster_settings = RasterizationSettings(\n",
    "    image_size=[height_pixels, width_pixels],\n",
    "    blur_radius=0.0, \n",
    "    faces_per_pixel=1, \n",
    ")\n",
    "\n",
    "renderer = MeshRenderer(\n",
    "    rasterizer=MeshRasterizer(\n",
    "        cameras=cameras, \n",
    "        raster_settings=raster_settings\n",
    "    ),\n",
    "    shader=HardDepthShader(\n",
    "        device=device, \n",
    "        cameras=cameras\n",
    "    )\n",
    ")\n",
    "\n",
    "# render\n",
    "images = renderer(mesh)\n",
    "\n",
    "plt.figure(figsize=(10, 10))\n",
    "plt.imshow(images[0, ..., 0].cpu().numpy())\n",
    "plt.colorbar()\n",
    "plt.axis(\"off\");"
   ]
  }
 ],
 "metadata": {
  "kernelspec": {
   "display_name": "Python 3 (ipykernel)",
   "language": "python",
   "name": "python3"
  },
  "language_info": {
   "codemirror_mode": {
    "name": "ipython",
    "version": 3
   },
   "file_extension": ".py",
   "mimetype": "text/x-python",
   "name": "python",
   "nbconvert_exporter": "python",
   "pygments_lexer": "ipython3",
   "version": "3.9.12"
  }
 },
 "nbformat": 4,
 "nbformat_minor": 5
}
