{
 "cells": [
  {
   "cell_type": "code",
   "execution_count": 17,
   "id": "534aae63",
   "metadata": {
    "scrolled": true
   },
   "outputs": [
    {
     "ename": "NameError",
     "evalue": "name 'python' is not defined",
     "output_type": "error",
     "traceback": [
      "\u001b[0;31m---------------------------------------------------------------------------\u001b[0m",
      "\u001b[0;31mNameError\u001b[0m                                 Traceback (most recent call last)",
      "Cell \u001b[0;32mIn[17], line 4\u001b[0m\n\u001b[1;32m      2\u001b[0m \u001b[38;5;28;01mimport\u001b[39;00m \u001b[38;5;21;01mnumpy\u001b[39;00m \u001b[38;5;28;01mas\u001b[39;00m \u001b[38;5;21;01mnp\u001b[39;00m\n\u001b[1;32m      3\u001b[0m \u001b[38;5;28;01mimport\u001b[39;00m \u001b[38;5;21;01mmatplotlib\u001b[39;00m\u001b[38;5;21;01m.\u001b[39;00m\u001b[38;5;21;01mpyplot\u001b[39;00m \u001b[38;5;28;01mas\u001b[39;00m \u001b[38;5;21;01mplt\u001b[39;00m\n\u001b[0;32m----> 4\u001b[0m python \u001b[38;5;241m-\u001b[39m\u001b[38;5;241m-\u001b[39mversion\n",
      "\u001b[0;31mNameError\u001b[0m: name 'python' is not defined"
     ]
    }
   ],
   "source": [
    "import cv2\n",
    "import numpy as np\n",
    "import matplotlib.pyplot as plt\n"
   ]
  },
  {
   "cell_type": "code",
   "execution_count": 1,
   "id": "80b2b921",
   "metadata": {},
   "outputs": [
    {
     "name": "stdout",
     "output_type": "stream",
     "text": [
      "# packages in environment at /home/tamerlan/anaconda3/envs/monodtr:\r\n",
      "#\r\n",
      "# Name                    Version                   Build  Channel\r\n",
      "_libgcc_mutex             0.1                        main  \r\n",
      "_openmp_mutex             5.1                       1_gnu  \r\n",
      "absl-py                   2.0.0                    pypi_0    pypi\r\n",
      "astunparse                1.6.3                    pypi_0    pypi\r\n",
      "ca-certificates           2023.08.22           h06a4308_0  \r\n",
      "cachetools                5.3.2                    pypi_0    pypi\r\n",
      "certifi                   2022.12.7        py37h06a4308_0  \r\n",
      "charset-normalizer        3.3.2                    pypi_0    pypi\r\n",
      "coloredlogs               15.0.1                   pypi_0    pypi\r\n",
      "cycler                    0.11.0                   pypi_0    pypi\r\n",
      "cython                    3.0.5                    pypi_0    pypi\r\n",
      "easydict                  1.11                     pypi_0    pypi\r\n",
      "fire                      0.5.0                    pypi_0    pypi\r\n",
      "flatbuffers               23.5.26                  pypi_0    pypi\r\n",
      "fonttools                 4.38.0                   pypi_0    pypi\r\n",
      "gast                      0.4.0                    pypi_0    pypi\r\n",
      "google-auth               2.23.4                   pypi_0    pypi\r\n",
      "google-auth-oauthlib      0.4.6                    pypi_0    pypi\r\n",
      "google-pasta              0.2.0                    pypi_0    pypi\r\n",
      "grpcio                    1.59.2                   pypi_0    pypi\r\n",
      "h5py                      3.8.0                    pypi_0    pypi\r\n",
      "humanfriendly             10.0                     pypi_0    pypi\r\n",
      "idna                      3.4                      pypi_0    pypi\r\n",
      "imageio                   2.31.2                   pypi_0    pypi\r\n",
      "importlib-metadata        6.7.0                    pypi_0    pypi\r\n",
      "keras                     2.11.0                   pypi_0    pypi\r\n",
      "kiwisolver                1.4.5                    pypi_0    pypi\r\n",
      "ld_impl_linux-64          2.38                 h1181459_1  \r\n",
      "libclang                  16.0.6                   pypi_0    pypi\r\n",
      "libffi                    3.4.4                h6a678d5_0  \r\n",
      "libgcc-ng                 11.2.0               h1234567_1  \r\n",
      "libgomp                   11.2.0               h1234567_1  \r\n",
      "libstdcxx-ng              11.2.0               h1234567_1  \r\n",
      "llvmlite                  0.39.1                   pypi_0    pypi\r\n",
      "markdown                  3.4.4                    pypi_0    pypi\r\n",
      "markupsafe                2.1.3                    pypi_0    pypi\r\n",
      "matplotlib                3.5.3                    pypi_0    pypi\r\n",
      "ncurses                   6.4                  h6a678d5_0  \r\n",
      "networkx                  2.6.3                    pypi_0    pypi\r\n",
      "numba                     0.56.4                   pypi_0    pypi\r\n",
      "numpy                     1.21.6                   pypi_0    pypi\r\n",
      "oauthlib                  3.2.2                    pypi_0    pypi\r\n",
      "opencv-python             4.8.1.78                 pypi_0    pypi\r\n",
      "openssl                   1.1.1w               h7f8727e_0  \r\n",
      "opt-einsum                3.3.0                    pypi_0    pypi\r\n",
      "packaging                 23.2                     pypi_0    pypi\r\n",
      "pillow                    9.5.0                    pypi_0    pypi\r\n",
      "pip                       22.3.1           py37h06a4308_0  \r\n",
      "protobuf                  3.19.6                   pypi_0    pypi\r\n",
      "pyasn1                    0.5.0                    pypi_0    pypi\r\n",
      "pyasn1-modules            0.3.0                    pypi_0    pypi\r\n",
      "pyparsing                 3.1.1                    pypi_0    pypi\r\n",
      "pyquaternion              0.9.9                    pypi_0    pypi\r\n",
      "python                    3.7.16               h7a1cb2a_0  \r\n",
      "python-dateutil           2.8.2                    pypi_0    pypi\r\n",
      "pywavelets                1.3.0                    pypi_0    pypi\r\n",
      "readline                  8.2                  h5eee18b_0  \r\n",
      "requests                  2.31.0                   pypi_0    pypi\r\n",
      "requests-oauthlib         1.3.1                    pypi_0    pypi\r\n",
      "rsa                       4.9                      pypi_0    pypi\r\n",
      "scikit-image              0.19.3                   pypi_0    pypi\r\n",
      "scipy                     1.7.3                    pypi_0    pypi\r\n",
      "setuptools                65.6.3           py37h06a4308_0  \r\n",
      "six                       1.16.0                   pypi_0    pypi\r\n",
      "sqlite                    3.41.2               h5eee18b_0  \r\n",
      "tensorboard               2.11.2                   pypi_0    pypi\r\n",
      "tensorboard-data-server   0.6.1                    pypi_0    pypi\r\n",
      "tensorboard-plugin-wit    1.8.1                    pypi_0    pypi\r\n",
      "tensorflow                2.11.0                   pypi_0    pypi\r\n",
      "tensorflow-estimator      2.11.0                   pypi_0    pypi\r\n",
      "tensorflow-io-gcs-filesystem 0.34.0                   pypi_0    pypi\r\n",
      "termcolor                 2.3.0                    pypi_0    pypi\r\n",
      "tifffile                  2021.11.2                pypi_0    pypi\r\n",
      "tk                        8.6.12               h1ccaba5_0  \r\n",
      "torch                     1.4.0+cu100              pypi_0    pypi\r\n",
      "torchvision               0.5.0+cu100              pypi_0    pypi\r\n",
      "tqdm                      4.66.1                   pypi_0    pypi\r\n",
      "typing-extensions         4.7.1                    pypi_0    pypi\r\n",
      "urllib3                   2.0.7                    pypi_0    pypi\r\n",
      "werkzeug                  2.2.3                    pypi_0    pypi\r\n",
      "wheel                     0.38.4           py37h06a4308_0  \r\n",
      "wrapt                     1.16.0                   pypi_0    pypi\r\n",
      "xz                        5.4.2                h5eee18b_0  \r\n",
      "zipp                      3.15.0                   pypi_0    pypi\r\n",
      "zlib                      1.2.13               h5eee18b_0  \r\n"
     ]
    }
   ],
   "source": [
    "!conda list"
   ]
  },
  {
   "cell_type": "code",
   "execution_count": 15,
   "id": "c00edc08",
   "metadata": {},
   "outputs": [
    {
     "ename": "ModuleNotFoundError",
     "evalue": "No module named 'torch'",
     "output_type": "error",
     "traceback": [
      "\u001b[0;31m---------------------------------------------------------------------------\u001b[0m",
      "\u001b[0;31mModuleNotFoundError\u001b[0m                       Traceback (most recent call last)",
      "Cell \u001b[0;32mIn[15], line 1\u001b[0m\n\u001b[0;32m----> 1\u001b[0m \u001b[38;5;28;01mfrom\u001b[39;00m \u001b[38;5;21;01mvisualDet3D\u001b[39;00m\u001b[38;5;21;01m.\u001b[39;00m\u001b[38;5;21;01mnetworks\u001b[39;00m\u001b[38;5;21;01m.\u001b[39;00m\u001b[38;5;21;01mutils\u001b[39;00m\u001b[38;5;21;01m.\u001b[39;00m\u001b[38;5;21;01mutils\u001b[39;00m \u001b[38;5;28;01mimport\u001b[39;00m BBox3dProjector, BackProjection\n",
      "File \u001b[0;32m~/Masters/thesis/MonoDTR/visualDet3D/networks/__init__.py:1\u001b[0m\n\u001b[0;32m----> 1\u001b[0m \u001b[38;5;28;01mfrom\u001b[39;00m \u001b[38;5;21;01m.\u001b[39;00m\u001b[38;5;21;01mpipelines\u001b[39;00m \u001b[38;5;28;01mimport\u001b[39;00m \u001b[38;5;241m*\u001b[39m\n\u001b[1;32m      2\u001b[0m \u001b[38;5;28;01mfrom\u001b[39;00m \u001b[38;5;21;01m.\u001b[39;00m\u001b[38;5;21;01mdetectors\u001b[39;00m \u001b[38;5;28;01mimport\u001b[39;00m \u001b[38;5;241m*\u001b[39m\n\u001b[1;32m      3\u001b[0m \u001b[38;5;28;01mfrom\u001b[39;00m \u001b[38;5;21;01m.\u001b[39;00m\u001b[38;5;21;01mutils\u001b[39;00m\u001b[38;5;21;01m.\u001b[39;00m\u001b[38;5;21;01mregistry\u001b[39;00m \u001b[38;5;28;01mimport\u001b[39;00m DATASET_DICT, DETECTOR_DICT, PIPELINE_DICT\n",
      "File \u001b[0;32m~/Masters/thesis/MonoDTR/visualDet3D/networks/pipelines/__init__.py:1\u001b[0m\n\u001b[0;32m----> 1\u001b[0m \u001b[38;5;28;01mfrom\u001b[39;00m \u001b[38;5;21;01m.\u001b[39;00m\u001b[38;5;21;01mtrainers\u001b[39;00m \u001b[38;5;28;01mimport\u001b[39;00m train_mono_detection\n\u001b[1;32m      2\u001b[0m \u001b[38;5;28;01mfrom\u001b[39;00m \u001b[38;5;21;01m.\u001b[39;00m\u001b[38;5;21;01mtesters\u001b[39;00m \u001b[38;5;28;01mimport\u001b[39;00m test_mono_detection\n\u001b[1;32m      3\u001b[0m \u001b[38;5;28;01mfrom\u001b[39;00m \u001b[38;5;21;01m.\u001b[39;00m\u001b[38;5;21;01mevaluators\u001b[39;00m \u001b[38;5;28;01mimport\u001b[39;00m evaluate_kitti_obj\n",
      "File \u001b[0;32m~/Masters/thesis/MonoDTR/visualDet3D/networks/pipelines/trainers.py:4\u001b[0m\n\u001b[1;32m      1\u001b[0m \u001b[38;5;124;03m\"\"\"\u001b[39;00m\n\u001b[1;32m      2\u001b[0m \u001b[38;5;124;03m    This script contains function snippets for different training settings\u001b[39;00m\n\u001b[1;32m      3\u001b[0m \u001b[38;5;124;03m\"\"\"\u001b[39;00m\n\u001b[0;32m----> 4\u001b[0m \u001b[38;5;28;01mimport\u001b[39;00m \u001b[38;5;21;01mtorch\u001b[39;00m\n\u001b[1;32m      5\u001b[0m \u001b[38;5;28;01mimport\u001b[39;00m \u001b[38;5;21;01mtorch\u001b[39;00m\u001b[38;5;21;01m.\u001b[39;00m\u001b[38;5;21;01mnn\u001b[39;00m \u001b[38;5;28;01mas\u001b[39;00m \u001b[38;5;21;01mnn\u001b[39;00m\n\u001b[1;32m      6\u001b[0m \u001b[38;5;28;01mimport\u001b[39;00m \u001b[38;5;21;01mtorch\u001b[39;00m\u001b[38;5;21;01m.\u001b[39;00m\u001b[38;5;21;01mnn\u001b[39;00m\u001b[38;5;21;01m.\u001b[39;00m\u001b[38;5;21;01mfunctional\u001b[39;00m \u001b[38;5;28;01mas\u001b[39;00m \u001b[38;5;21;01mF\u001b[39;00m\n",
      "\u001b[0;31mModuleNotFoundError\u001b[0m: No module named 'torch'"
     ]
    }
   ],
   "source": [
    "\n",
    "from visualDet3D.networks.utils.utils import BBox3dProjector, BackProjection"
   ]
  },
  {
   "cell_type": "code",
   "execution_count": 3,
   "id": "174f1c51",
   "metadata": {},
   "outputs": [],
   "source": [
    "def draw_3D_box(img, corners, color = (255, 255, 0)):\n",
    "    \"\"\"\n",
    "        draw 3D box in image with OpenCV,\n",
    "        the order of the corners should be the same with BBox3dProjector\n",
    "    \"\"\"\n",
    "    points = np.array(corners[0:2], dtype=np.int32) #[2, 8]\n",
    "    points = [tuple(points[:,i]) for i in range(8)]\n",
    "    for i in range(1, 5):\n",
    "        cv2.line(img, points[i], points[(i%4+1)], color, 2)\n",
    "        cv2.line(img, points[(i + 4)%8], points[((i)%4 + 5)%8], color, 2)\n",
    "    cv2.line(img, points[2], points[7], color)\n",
    "    cv2.line(img, points[3], points[6], color)\n",
    "    cv2.line(img, points[4], points[5],color)\n",
    "    cv2.line(img, points[0], points[1], color)\n",
    "    return img"
   ]
  },
  {
   "cell_type": "code",
   "execution_count": 4,
   "id": "d8e92ca6",
   "metadata": {},
   "outputs": [],
   "source": [
    "img = cv2.imread(\"data/KITTI/object/training/image_2/000004.png\")"
   ]
  },
  {
   "cell_type": "code",
   "execution_count": 14,
   "id": "3145cdcc",
   "metadata": {},
   "outputs": [
    {
     "data": {
      "text/plain": [
       "array([[280.38, 185.1 , 344.9 , 215.59]])"
      ]
     },
     "execution_count": 14,
     "metadata": {},
     "output_type": "execute_result"
    }
   ],
   "source": [
    "corners = np.array([280.38, 185.10, 344.90, 215.59])\n",
    "corners = corners.reshape(1,4)\n",
    "corners"
   ]
  },
  {
   "cell_type": "code",
   "execution_count": 13,
   "id": "2bae2261",
   "metadata": {},
   "outputs": [
    {
     "ename": "IndexError",
     "evalue": "index 4 is out of bounds for axis 1 with size 4",
     "output_type": "error",
     "traceback": [
      "\u001b[0;31m---------------------------------------------------------------------------\u001b[0m",
      "\u001b[0;31mIndexError\u001b[0m                                Traceback (most recent call last)",
      "Cell \u001b[0;32mIn[13], line 1\u001b[0m\n\u001b[0;32m----> 1\u001b[0m plt\u001b[38;5;241m.\u001b[39mimshow(draw_3D_box(img, corners))\n",
      "Cell \u001b[0;32mIn[3], line 7\u001b[0m, in \u001b[0;36mdraw_3D_box\u001b[0;34m(img, corners, color)\u001b[0m\n\u001b[1;32m      2\u001b[0m \u001b[38;5;250m\u001b[39m\u001b[38;5;124;03m\"\"\"\u001b[39;00m\n\u001b[1;32m      3\u001b[0m \u001b[38;5;124;03m    draw 3D box in image with OpenCV,\u001b[39;00m\n\u001b[1;32m      4\u001b[0m \u001b[38;5;124;03m    the order of the corners should be the same with BBox3dProjector\u001b[39;00m\n\u001b[1;32m      5\u001b[0m \u001b[38;5;124;03m\"\"\"\u001b[39;00m\n\u001b[1;32m      6\u001b[0m points \u001b[38;5;241m=\u001b[39m np\u001b[38;5;241m.\u001b[39marray(corners[\u001b[38;5;241m0\u001b[39m:\u001b[38;5;241m2\u001b[39m], dtype\u001b[38;5;241m=\u001b[39mnp\u001b[38;5;241m.\u001b[39mint32) \u001b[38;5;66;03m#[2, 8]\u001b[39;00m\n\u001b[0;32m----> 7\u001b[0m points \u001b[38;5;241m=\u001b[39m [\u001b[38;5;28mtuple\u001b[39m(points[:,i]) \u001b[38;5;28;01mfor\u001b[39;00m i \u001b[38;5;129;01min\u001b[39;00m \u001b[38;5;28mrange\u001b[39m(\u001b[38;5;241m8\u001b[39m)]\n\u001b[1;32m      8\u001b[0m \u001b[38;5;28;01mfor\u001b[39;00m i \u001b[38;5;129;01min\u001b[39;00m \u001b[38;5;28mrange\u001b[39m(\u001b[38;5;241m1\u001b[39m, \u001b[38;5;241m5\u001b[39m):\n\u001b[1;32m      9\u001b[0m     cv2\u001b[38;5;241m.\u001b[39mline(img, points[i], points[(i\u001b[38;5;241m%\u001b[39m\u001b[38;5;241m4\u001b[39m\u001b[38;5;241m+\u001b[39m\u001b[38;5;241m1\u001b[39m)], color, \u001b[38;5;241m2\u001b[39m)\n",
      "Cell \u001b[0;32mIn[3], line 7\u001b[0m, in \u001b[0;36m<listcomp>\u001b[0;34m(.0)\u001b[0m\n\u001b[1;32m      2\u001b[0m \u001b[38;5;250m\u001b[39m\u001b[38;5;124;03m\"\"\"\u001b[39;00m\n\u001b[1;32m      3\u001b[0m \u001b[38;5;124;03m    draw 3D box in image with OpenCV,\u001b[39;00m\n\u001b[1;32m      4\u001b[0m \u001b[38;5;124;03m    the order of the corners should be the same with BBox3dProjector\u001b[39;00m\n\u001b[1;32m      5\u001b[0m \u001b[38;5;124;03m\"\"\"\u001b[39;00m\n\u001b[1;32m      6\u001b[0m points \u001b[38;5;241m=\u001b[39m np\u001b[38;5;241m.\u001b[39marray(corners[\u001b[38;5;241m0\u001b[39m:\u001b[38;5;241m2\u001b[39m], dtype\u001b[38;5;241m=\u001b[39mnp\u001b[38;5;241m.\u001b[39mint32) \u001b[38;5;66;03m#[2, 8]\u001b[39;00m\n\u001b[0;32m----> 7\u001b[0m points \u001b[38;5;241m=\u001b[39m [\u001b[38;5;28mtuple\u001b[39m(points[:,i]) \u001b[38;5;28;01mfor\u001b[39;00m i \u001b[38;5;129;01min\u001b[39;00m \u001b[38;5;28mrange\u001b[39m(\u001b[38;5;241m8\u001b[39m)]\n\u001b[1;32m      8\u001b[0m \u001b[38;5;28;01mfor\u001b[39;00m i \u001b[38;5;129;01min\u001b[39;00m \u001b[38;5;28mrange\u001b[39m(\u001b[38;5;241m1\u001b[39m, \u001b[38;5;241m5\u001b[39m):\n\u001b[1;32m      9\u001b[0m     cv2\u001b[38;5;241m.\u001b[39mline(img, points[i], points[(i\u001b[38;5;241m%\u001b[39m\u001b[38;5;241m4\u001b[39m\u001b[38;5;241m+\u001b[39m\u001b[38;5;241m1\u001b[39m)], color, \u001b[38;5;241m2\u001b[39m)\n",
      "\u001b[0;31mIndexError\u001b[0m: index 4 is out of bounds for axis 1 with size 4"
     ]
    }
   ],
   "source": [
    "plt.imshow(draw_3D_box(img, corners))"
   ]
  },
  {
   "cell_type": "code",
   "execution_count": null,
   "id": "3b023d88",
   "metadata": {},
   "outputs": [],
   "source": []
  }
 ],
 "metadata": {
  "kernelspec": {
   "display_name": "Python 3 (ipykernel)",
   "language": "python",
   "name": "python3"
  },
  "language_info": {
   "codemirror_mode": {
    "name": "ipython",
    "version": 3
   },
   "file_extension": ".py",
   "mimetype": "text/x-python",
   "name": "python",
   "nbconvert_exporter": "python",
   "pygments_lexer": "ipython3",
   "version": "3.11.5"
  }
 },
 "nbformat": 4,
 "nbformat_minor": 5
}
