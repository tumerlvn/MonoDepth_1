{
 "cells": [
  {
   "cell_type": "raw",
   "metadata": {},
   "source": [
    "python run.py \\\n",
    "  --encoder <vits | vitb | vitl | vitg> \\\n",
    "  --img-path <path> --outdir <outdir> \\\n",
    "  [--input-size <size>] [--pred-only] [--grayscale]"
   ]
  },
  {
   "cell_type": "code",
   "execution_count": 5,
   "metadata": {},
   "outputs": [
    {
     "name": "stdout",
     "output_type": "stream",
     "text": [
      "xFormers not available\n",
      "xFormers not available\n",
      "Progress 1/1: tmp/frame_copy_9180.png\n"
     ]
    }
   ],
   "source": [
    "!python run.py \\\n",
    "  --encoder vitl \\\n",
    "  --img-path tmp/frame_copy_9180.png --outdir tmp/"
   ]
  },
  {
   "cell_type": "code",
   "execution_count": null,
   "metadata": {},
   "outputs": [],
   "source": []
  }
 ],
 "metadata": {
  "kernelspec": {
   "display_name": "da2venv",
   "language": "python",
   "name": "python3"
  },
  "language_info": {
   "codemirror_mode": {
    "name": "ipython",
    "version": 3
   },
   "file_extension": ".py",
   "mimetype": "text/x-python",
   "name": "python",
   "nbconvert_exporter": "python",
   "pygments_lexer": "ipython3",
   "version": "3.10.12"
  }
 },
 "nbformat": 4,
 "nbformat_minor": 2
}
